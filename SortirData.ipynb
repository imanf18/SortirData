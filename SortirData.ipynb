{
  "nbformat": 4,
  "nbformat_minor": 0,
  "metadata": {
    "colab": {
      "private_outputs": true,
      "provenance": [],
      "gpuType": "T4"
    },
    "kernelspec": {
      "name": "python3",
      "display_name": "Python 3"
    },
    "language_info": {
      "name": "python"
    },
    "accelerator": "GPU"
  },
  "cells": [
    {
      "cell_type": "markdown",
      "source": [
        "NAMA : IMAN FUSHSHILAT;\n",
        "NIM  : 201012320033\n",
        "1.   Menghubungkan Google Drive dengan Colab; link File di google drive : https://drive.google.com/drive/folders/15G3WwR89Uj2vDREubp0x8PUXir5T2-Ru?usp=drive_link\n",
        "2.   Setting Hardware Acceleator Menggunakan T4 GPU dengan kernel python 3;"
      ],
      "metadata": {
        "id": "y1BCu6ZQTuZF"
      }
    },
    {
      "cell_type": "code",
      "execution_count": null,
      "metadata": {
        "id": "Usa1dgl3O0sb"
      },
      "outputs": [],
      "source": [
        "#NAMA : IMAN FUSHSHILAT\n",
        "#NIM  : 201012320033\n",
        "# 1. Menghubungkan Google Drive dengan Colab;\n",
        "#Setting Hardware Acceleator Menggunakan T4 GPU dengan kernel python 3;\n",
        "\n",
        "from google.colab import drive\n",
        "drive.mount ('/content/drive')"
      ]
    },
    {
      "cell_type": "markdown",
      "source": [],
      "metadata": {
        "id": "sEKASpn-uDCJ"
      }
    },
    {
      "cell_type": "markdown",
      "source": [
        "1. Membaca file epl-goalScorer(20-21).csv yang ditempatkan di My Drive pada google drive saya, didalam folder \"datacsv\"\n",
        "2. Mengunakan Library Pandas, numpy dan matplotlib"
      ],
      "metadata": {
        "id": "EWpcl9QAUwwO"
      }
    },
    {
      "cell_type": "code",
      "source": [
        "#Membaca file epl-goalScorer(20-21).csv yang ditempatkan di My Drive pada google drive saya, didalam folder \"datacsv\"\n",
        "#Mengunakan Library Pandas, numpy dan matplotlib\n",
        "\n",
        "import pandas as pd\n",
        "import numpy as np\n",
        "import matplotlib.pyplot as plt\n",
        "df = pd.read_csv ('/content/drive/My Drive/datacsv/epl-goalScorer(20-21).csv')\n",
        "print (df)\n",
        "print (df.dtypes)  #menampilkan atribute type data"
      ],
      "metadata": {
        "id": "kgFA6MFoQ0fG"
      },
      "execution_count": null,
      "outputs": []
    },
    {
      "cell_type": "markdown",
      "source": [
        "2. Menampilkan 10 Pemain pencetak Gol Terbanyak"
      ],
      "metadata": {
        "id": "habpxZyFan1n"
      }
    },
    {
      "cell_type": "code",
      "source": [
        "df_noid = df.iloc[:,2:]\n",
        "\n",
        "q1 = df_noid.quantile(0.25)\n",
        "q3 = df_noid.quantile(0.75)\n",
        "iqr = q3-q1\n",
        "df_noid_align, iqr_new = df_noid.align(iqr, axis=1, copy=False, join='outer')\n",
        "outlier_filter = (df_noid < q1 - 1.5 * iqr_new) | (df_noid > q3 + 1.5 * iqr_new)\n",
        "\n",
        "df_noid[outlier_filter['goals']] .loc[:, ['player_name', 'goals']] .sort_values(by=['goals'], ascending=False)\n",
        "result = df_noid[outlier_filter['goals']].loc[:, ['player_name', 'goals']].sort_values(by=['goals'], ascending=False).head(10)\n",
        "print(result) ## Print 10 Pemain pencetak goal Ter Banyak\n",
        "\n",
        "# Cara 2\n",
        "print()\n",
        "print(\"############################# CARA 2 ###################################\")\n",
        "print()\n",
        "top_scorers = df.nlargest(10, 'goals')\n",
        "print(top_scorers)\n",
        "\n"
      ],
      "metadata": {
        "id": "v4ngkGnuaw3q"
      },
      "execution_count": null,
      "outputs": []
    },
    {
      "cell_type": "markdown",
      "source": [
        "3. Menampilkan 10 Pemain dengan durasi terlama bermain"
      ],
      "metadata": {
        "id": "QGiHZvNoceJj"
      }
    },
    {
      "cell_type": "code",
      "source": [
        "#Menampilkan 10 Pemain dengan durasi terlama bermain\n",
        "\n",
        "top_duration = df.nlargest(10, 'time')\n",
        "print(top_duration)"
      ],
      "metadata": {
        "id": "SuNKsM6PckWO"
      },
      "execution_count": null,
      "outputs": []
    },
    {
      "cell_type": "markdown",
      "source": [
        "4. Menampilkan 10 Pemain dengan Assist terbanyak"
      ],
      "metadata": {
        "id": "Gyrdc4TpfeYK"
      }
    },
    {
      "cell_type": "code",
      "source": [
        "#Menampilkan 10 Pemain dengan Assist terbanyak\n",
        "#Cara 1\n",
        "top_assists = df.nlargest(10, 'assists')\n",
        "print(top_assists)\n",
        "\n",
        "#################################################################################\n",
        "\n",
        "# Cara 2\n",
        "print()\n",
        "print(\"############################# CARA 2 ###################################\")\n",
        "print()\n",
        "df_noid = df.iloc[:,2:]\n",
        "\n",
        "q1 = df_noid.quantile(0.25)\n",
        "q3 = df_noid.quantile(0.75)\n",
        "iqr = q3-q1\n",
        "df_noid_align, iqr_new = df_noid.align(iqr, axis=1, copy=False, join='outer')\n",
        "outlier_filter = (df_noid < q1 - 1.5 * iqr_new) | (df_noid > q3 + 1.5 * iqr_new)\n",
        "\n",
        "df_noid[outlier_filter['assists']] .loc[:, ['player_name', 'assists']] .sort_values(by=['assists'], ascending=False)\n",
        "result = df_noid[outlier_filter['assists']].loc[:, ['player_name', 'assists']].sort_values(by=['assists'], ascending=False).head(10)\n",
        "print(result)"
      ],
      "metadata": {
        "id": "b6UGb3QAfvCd"
      },
      "execution_count": null,
      "outputs": []
    },
    {
      "cell_type": "markdown",
      "source": [
        "5. Top 4 Pemain pencetak gol terbanyak dari Manchester City"
      ],
      "metadata": {
        "id": "-OBzWvVno-Os"
      }
    },
    {
      "cell_type": "code",
      "source": [
        "#Top 4 Pemain pencetak gol terbanyak dari Manchester City\n",
        "\n",
        "# Filter data untuk grup Manchester City\n",
        "manchester_city_df = df[df['team_title'] == 'Manchester City']\n",
        "\n",
        "# Menampilkan 4 pemain terbanyak pencetak gol di grup Manchester City\n",
        "top_scorers_manchester_city = manchester_city_df.nlargest(4, 'goals')\n",
        "print(top_scorers_manchester_city)\n"
      ],
      "metadata": {
        "id": "7AZ2o5hwpQl5"
      },
      "execution_count": null,
      "outputs": []
    },
    {
      "cell_type": "markdown",
      "source": [
        "6. Kesebelasan asal sang pencetak gol terbanyak (top scorer)"
      ],
      "metadata": {
        "id": "8cgwU_Hxv62N"
      }
    },
    {
      "cell_type": "code",
      "source": [
        "#Kesebelasan asal sang pencetak gol terbanyak (top scorer)\n",
        "\n",
        "# Mendapatkan data pemain dengan jumlah gol terbanyak\n",
        "top_scorer = df.nlargest(1, 'goals')\n",
        "\n",
        "# Mendapatkan nama tim dari data top scorer\n",
        "top_scorer_team = top_scorer['team_title'].iloc[0]\n",
        "\n",
        "# Menampilkan informasi\n",
        "print(f\"Top scorer berasal dari tim: {top_scorer_team}\")"
      ],
      "metadata": {
        "id": "3RfwSuPu4gKd"
      },
      "execution_count": null,
      "outputs": []
    },
    {
      "cell_type": "markdown",
      "source": [
        "7. Jumlah kartu merah dan Kuning yang diterima pembuat Assist terbanyak"
      ],
      "metadata": {
        "id": "6xoos4165A-B"
      }
    },
    {
      "cell_type": "code",
      "source": [
        "#Jumlah kartu merah dan Kuning yang diterima pembuat Assist terbanyak\n",
        "# Filter data untuk pembuat assist terbanyak\n",
        "top_assist_maker = df.nlargest(1, 'assists')['player_name'].iloc[0]\n",
        "\n",
        "# Filter data untuk pembuat assist terbanyak\n",
        "top_assist_data = df[df['player_name'] == top_assist_maker]\n",
        "\n",
        "# Menghitung jumlah kartu merah dan kuning yang diterima\n",
        "red_cards = top_assist_data['red_cards'].sum()\n",
        "yellow_cards = top_assist_data['yellow_cards'].sum()\n",
        "\n",
        "# Menampilkan hasil\n",
        "print(f\"Pembuat assist terbanyak ({top_assist_maker}) menerima:\")\n",
        "print(f\"Kartu Merah: {red_cards}\")\n",
        "print(f\"Kartu Kuning: {yellow_cards}\")"
      ],
      "metadata": {
        "id": "V_jfdqBg5PTn"
      },
      "execution_count": null,
      "outputs": []
    },
    {
      "cell_type": "markdown",
      "source": [
        "8. Pemain beserta kesebelasannya yang mempunyai jumlah gol dan assist terbanyak"
      ],
      "metadata": {
        "id": "Wqjwr4UM5wJn"
      }
    },
    {
      "cell_type": "code",
      "source": [
        "#Pemain beserta kesebelasannya yang mempunyai jumlah gol dan assist terbanyak\n",
        "\n",
        "# Pemain dengan jumlah gol terbanyak\n",
        "top_goal_scorer = df.nlargest(1, 'goals')\n",
        "\n",
        "# Pemain dengan jumlah assist terbanyak\n",
        "top_assist_maker = df.nlargest(1, 'assists')\n",
        "\n",
        "# Mendapatkan nama pemain terbanyak dalam gol dan assist\n",
        "top_goal_scorer_name = top_goal_scorer['player_name'].iloc[0]\n",
        "top_assist_maker_name = top_assist_maker['player_name'].iloc[0]\n",
        "\n",
        "# Mencetak informasi pemain beserta kesebelasannya\n",
        "print(f\"Pemain dengan jumlah gol terbanyak: {top_goal_scorer_name}\")\n",
        "print(\"Tim:\", top_goal_scorer['team_title'].iloc[0])\n",
        "print(f\"Jumlah gol: {top_goal_scorer['goals'].iloc[0]}\")\n",
        "print(f\"Jumlah assist: {top_assist_maker['assists'].iloc[0]}\")\n",
        "print(\"\\n\")\n"
      ],
      "metadata": {
        "id": "ac7N2bF_6DrD"
      },
      "execution_count": null,
      "outputs": []
    },
    {
      "cell_type": "markdown",
      "source": [
        "9. Top 5 Kesebelasan yang menyumbangkan gol terbanyak"
      ],
      "metadata": {
        "id": "F8veUR9Y74uW"
      }
    },
    {
      "cell_type": "code",
      "source": [
        "#Top 5 Kesebelasan yang menyumbangkan gol terbanyak\n",
        "# Mengelompokkan data berdasarkan tim dan menjumlahkan jumlah gol\n",
        "team_goals = df.groupby('team_title')['goals'].sum().reset_index()\n",
        "\n",
        "# Mengurutkan data berdasarkan jumlah gol secara menurun\n",
        "top_5_teams = team_goals.nlargest(5, 'goals')\n",
        "\n",
        "# Menampilkan 5 kesebelasan teratas\n",
        "print(top_5_teams)"
      ],
      "metadata": {
        "id": "Dd6U-ES48gtE"
      },
      "execution_count": null,
      "outputs": []
    },
    {
      "cell_type": "markdown",
      "source": [
        "10. Urutan Top Scorer yang tanpa mendapatkan Kartu (merah dan atau kuning)"
      ],
      "metadata": {
        "id": "MNyqoMOJ-vTv"
      }
    },
    {
      "cell_type": "code",
      "source": [
        "#Urutan Top Scorer yang tanpa mendapatkan Kartu (merah dan atau kuning)\n",
        "# Filter data untuk pemain yang tidak mendapatkan kartu merah atau kuning\n",
        "df_no_cards = df[(df['red_cards'] == 0) & (df['yellow_cards'] == 0)]\n",
        "\n",
        "# Mendapatkan urutan top scorer tanpa kartu\n",
        "top_scorer_no_cards = df_no_cards.nlargest(10, 'goals')\n",
        "\n",
        "# Menampilkan urutan top scorer tanpa kartu\n",
        "print(top_scorer_no_cards)"
      ],
      "metadata": {
        "id": "tuf44o6d_EKX"
      },
      "execution_count": null,
      "outputs": []
    }
  ]
}